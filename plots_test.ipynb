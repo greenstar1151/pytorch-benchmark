{
 "cells": [
  {
   "cell_type": "markdown",
   "source": [
    "## Workflow\n",
    "\n",
    "**Data generation** -> **Data load / Visualization(Plotting)**\n",
    "\n",
    "## Folder Structure\n",
    "\n",
    "```\n",
    "└── pytorch-benchmark\n",
    "    ├── trace_data\n",
    "    │   ├── exec_time\n",
    "    │   │   └── .pickle\n",
    "    │   └── ncu_reports\n",
    "    │       └── .ncu-rep\n",
    "    ├── plots_model_exec.py\n",
    "    └── plots_test.ipynb\n",
    "```"
   ],
   "metadata": {}
  },
  {
   "cell_type": "markdown",
   "source": [
    "# Data generation(without nsight)"
   ],
   "metadata": {}
  },
  {
   "cell_type": "code",
   "execution_count": 1,
   "source": [
    "!pwd"
   ],
   "outputs": [
    {
     "output_type": "stream",
     "name": "stdout",
     "text": [
      "/workspace/benchmark\n"
     ]
    }
   ],
   "metadata": {}
  },
  {
   "cell_type": "code",
   "execution_count": 4,
   "source": [
    "import os\n",
    "\n",
    "MAIN_DIR = os.getcwd()"
   ],
   "outputs": [],
   "metadata": {}
  },
  {
   "cell_type": "code",
   "execution_count": 5,
   "source": [
    "import torch\n",
    "\n",
    "print(torch.cuda.is_available())"
   ],
   "outputs": [
    {
     "output_type": "stream",
     "name": "stdout",
     "text": [
      "True\n"
     ]
    }
   ],
   "metadata": {}
  },
  {
   "cell_type": "code",
   "execution_count": 3,
   "source": [
    "import itertools\n",
    "from torchbenchmark import list_models\n",
    "\n",
    "params_test_devices = ('cuda',)#('cpu', 'cuda')\n",
    "params_test_workloads = ('eval',)#('eval', 'train')\n",
    "# params_test_models = ('resnet50', 'BERT', 'dlrm', 'nvidia_deeprecommender') # [m.name for m in list_models()]\n",
    "params_test_models = (\n",
    "    'BERT_pytorch',\n",
    "    'alexnet',\n",
    "    'densenet121',\n",
    "    'dlrm',\n",
    "    'drq',\n",
    "    'fastNLP',\n",
    "    'nvidia_deeprecommender',\n",
    "    'pytorch_stargan',\n",
    "    'pytorch_struct',\n",
    "    'resnet18',\n",
    "    'resnet50',\n",
    "    'resnext50_32x4d',\n",
    "    'shufflenet_v2_x1_0',\n",
    "    'soft_actor_critic',\n",
    "    'squeezenet1_1',\n",
    "    'timm_efficientnet',\n",
    "    'timm_nfnet',\n",
    "    'timm_regnet',\n",
    "    'timm_resnest',\n",
    "    'timm_vision_transformer',\n",
    "    'timm_vovnet',\n",
    "    'tts_angular',\n",
    "    'vgg16',\n",
    "    'yolov3'\n",
    ")\n",
    "\n",
    "\n",
    "# params_test[:][0] -> device, params_test[:][1] -> workload, params_test[:][2] -> model\n",
    "params_test = itertools.product(params_test_devices, params_test_workloads, params_test_models) \n"
   ],
   "outputs": [],
   "metadata": {}
  },
  {
   "cell_type": "code",
   "execution_count": 4,
   "source": [
    "from torchbenchmark import list_models\n",
    "import torch.autograd.profiler as profiler\n",
    "import gc\n",
    "\n",
    "\n",
    "def profile_one_step(func, cuda, niter, nwarmup=3):\n",
    "    for i in range(nwarmup):\n",
    "        func() # default niter == 1, for warmup 1 is enough(memory allocation, etc.)\n",
    "\n",
    "    with profiler.profile(record_shapes=True, use_cuda = cuda) as prof:\n",
    "        func(niter)\n",
    "\n",
    "    return prof\n",
    "    #print(prof.key_averages(group_by_input_shape=True).table(sort_by=\"cpu_time_total\", row_limit=30))\n",
    "\n",
    "results = []\n",
    "torch.set_grad_enabled(False)\n",
    "for params in params_test:\n",
    "    device, workload, model = params\n",
    "    print(model) # debug\n",
    "\n",
    "    found = False\n",
    "    for Model in list_models():\n",
    "        if model.lower() in Model.name.lower():\n",
    "            found = True\n",
    "            break\n",
    "\n",
    "    # build the model and get the task to profile\n",
    "    m = Model(device = device)\n",
    "    test = getattr(m, workload)\n",
    "\n",
    "    prof_data = profile_one_step(test, device == 'cuda', 100)\n",
    "    gc.collect()\n",
    "    if device == 'cuda':\n",
    "        torch.cuda.empty_cache()\n",
    "    results.append((params, prof_data))\n"
   ],
   "outputs": [
    {
     "output_type": "stream",
     "name": "stderr",
     "text": [
      "/opt/conda/lib/python3.8/site-packages/packaging/version.py:111: DeprecationWarning: Creating a LegacyVersion has been deprecated and will be removed in the next major release\n",
      "  warnings.warn(\n"
     ]
    },
    {
     "output_type": "stream",
     "name": "stdout",
     "text": [
      "Setting the default backend to \"pytorch\". You can change it in the ~/.dgl/config.json file or export the DGLBACKEND environment variable.  Valid options are: pytorch, mxnet, tensorflow (all lowercase)\n"
     ]
    },
    {
     "output_type": "stream",
     "name": "stderr",
     "text": [
      "################################################################################\n",
      "### WARNING, path does not exist: KALDI_ROOT=/mnt/matylda5/iveselyk/Tools/kaldi-trunk\n",
      "###          (please add 'export KALDI_ROOT=<your_path>' in your $HOME/.profile)\n",
      "###          (or run as: KALDI_ROOT=<your_path> python <your_script>.py)\n",
      "################################################################################\n",
      "\n"
     ]
    }
   ],
   "metadata": {}
  },
  {
   "cell_type": "code",
   "execution_count": 5,
   "source": [
    "from torch.autograd import DeviceType\n",
    "\n",
    "\n",
    "data_profiledtime_dict = {}\n",
    "for result in results:\n",
    "    events = result[1].function_events\n",
    "    sum_self_cpu_time_total = sum([event.self_cpu_time_total for event in events])\n",
    "\n",
    "    sum_self_cuda_time_total = 0\n",
    "    for evt in events:\n",
    "        if evt.device_type == DeviceType.CPU:\n",
    "            # in legacy profiler, kernel info is stored in cpu events\n",
    "            if evt.is_legacy:\n",
    "                sum_self_cuda_time_total += evt.self_cuda_time_total\n",
    "        elif evt.device_type == DeviceType.CUDA:\n",
    "            # in kineto profiler, there're events with the correct device type (e.g. CUDA)\n",
    "            sum_self_cuda_time_total += evt.self_cuda_time_total\n",
    "\n",
    "    data_profiledtime_dict[result[0]] = (sum_self_cpu_time_total, sum_self_cuda_time_total)"
   ],
   "outputs": [
    {
     "output_type": "stream",
     "name": "stderr",
     "text": [
      "/opt/conda/lib/python3.8/site-packages/ipykernel/ipkernel.py:287: DeprecationWarning: `should_run_async` will not call `transform_cell` automatically in the future. Please pass the result to `transformed_cell` argument and any exception that happen during thetransform in `preprocessing_exc_tuple` in IPython 7.17 and above.\n",
      "  and should_run_async(code)\n"
     ]
    }
   ],
   "metadata": {}
  },
  {
   "cell_type": "code",
   "execution_count": 6,
   "source": [
    "for r in results:\n",
    "    print(f'{\", \".join([str(x) for x in r[0]]):<40} {data_profiledtime_dict[r[0]][0]:<20.3f} {data_profiledtime_dict[r[0]][1]:<20.3f}')"
   ],
   "outputs": [
    {
     "output_type": "stream",
     "name": "stdout",
     "text": [
      "cuda, eval, resnet50                     2370782.135          2953959.198         \n",
      "cuda, eval, BERT                         3790333.371          4931704.641         \n",
      "cuda, eval, dlrm                         136671.318           133550.442          \n",
      "cuda, eval, nvidia_deeprecommender       9924123.346          11962347.629        \n"
     ]
    },
    {
     "output_type": "stream",
     "name": "stderr",
     "text": [
      "/opt/conda/lib/python3.8/site-packages/ipykernel/ipkernel.py:287: DeprecationWarning: `should_run_async` will not call `transform_cell` automatically in the future. Please pass the result to `transformed_cell` argument and any exception that happen during thetransform in `preprocessing_exc_tuple` in IPython 7.17 and above.\n",
      "  and should_run_async(code)\n"
     ]
    }
   ],
   "metadata": {}
  },
  {
   "cell_type": "code",
   "execution_count": null,
   "source": [
    "import pandas as pd\n",
    "\n",
    "\n",
    "df = pd.DataFrame()\n",
    "df['model'] = [r[0][2] for r in results]\n",
    "df['time_cpu'] = [data_profiledtime_dict[r[0]][0] for r in results]\n",
    "df['time_cuda'] = [data_profiledtime_dict[r[0]][1] for r in results]\n",
    "\n",
    "EXPERIMENT_NAME = 'cuda_eval_nograd'\n",
    "\n",
    "df.to_pickle(os.path.join(MAIN_DIR, 'exec_time', f'{EXPERIMENT_NAME}.pickle')\n"
   ],
   "outputs": [],
   "metadata": {}
  },
  {
   "cell_type": "markdown",
   "source": [
    "# Data generation(with nsight)"
   ],
   "metadata": {}
  },
  {
   "cell_type": "code",
   "execution_count": null,
   "source": [
    "# stub"
   ],
   "outputs": [],
   "metadata": {}
  },
  {
   "cell_type": "markdown",
   "source": [
    "# Data load"
   ],
   "metadata": {}
  },
  {
   "cell_type": "code",
   "execution_count": null,
   "source": [
    "# stub"
   ],
   "outputs": [],
   "metadata": {}
  },
  {
   "cell_type": "markdown",
   "source": [
    "# Visualization"
   ],
   "metadata": {}
  },
  {
   "cell_type": "markdown",
   "source": [
    "## code below is just for reference"
   ],
   "metadata": {}
  },
  {
   "cell_type": "code",
   "execution_count": 8,
   "source": [
    "import matplotlib.pyplot as plt\n",
    "\n",
    "plt_label = [m if len(m)<=8 else m[:8]+'..' for m in params_test_models]\n",
    "plt_N = len(params_test_models)\n",
    "plt_index = range(plt_N)\n",
    "plt_alpha = 0.5\n",
    "\n",
    "# Temp.\n",
    "time_div_ratio = 1000*1000\n",
    "data_cputime_list = [data_profiledtime_dict[('cuda','eval',m)][0]/time_div_ratio for m in params_test_models]\n",
    "data_cudatime_list = [data_profiledtime_dict[('cuda','eval',m)][1]/time_div_ratio for m in params_test_models]\n",
    "\n",
    "p1 = plt.bar(plt_index, data_cputime_list, color='b', alpha=plt_alpha)\n",
    "p2 = plt.bar(plt_index, data_cudatime_list, color='g', alpha=plt_alpha,\n",
    "             bottom=data_cputime_list) # stacked bar chart\n",
    "plt.title('CUDA, eval', fontsize=20)\n",
    "plt.ylabel('time(s)', fontsize=18)\n",
    "plt.xlabel('models', fontsize=18)\n",
    "plt.xticks(plt_index, plt_label, fontsize=15)\n",
    "plt.legend((p1[0], p2[0]), ('CPU', 'CUDA'), fontsize=15)\n",
    "plt.show()\n"
   ],
   "outputs": [
    {
     "output_type": "stream",
     "name": "stderr",
     "text": [
      "/opt/conda/lib/python3.8/site-packages/ipykernel/ipkernel.py:287: DeprecationWarning: `should_run_async` will not call `transform_cell` automatically in the future. Please pass the result to `transformed_cell` argument and any exception that happen during thetransform in `preprocessing_exc_tuple` in IPython 7.17 and above.\n",
      "  and should_run_async(code)\n"
     ]
    },
    {
     "output_type": "display_data",
     "data": {
      "text/plain": [
       "<Figure size 432x288 with 1 Axes>"
      ],
      "image/png": "[encoded data removed]"
     },
     "metadata": {
      "needs_background": "light"
     }
    }
   ],
   "metadata": {}
  }
 ],
 "metadata": {
  "orig_nbformat": 4,
  "kernelspec": {
   "name": "python3",
   "display_name": "Python 3",
   "language": "python"
  },
  "language_info": {
   "name": "python",
   "version": "3.8.8",
   "mimetype": "text/x-python",
   "codemirror_mode": {
    "name": "ipython",
    "version": 3
   },
   "pygments_lexer": "ipython3",
   "nbconvert_exporter": "python",
   "file_extension": ".py"
  }
 },
 "nbformat": 4,
 "nbformat_minor": 2
}