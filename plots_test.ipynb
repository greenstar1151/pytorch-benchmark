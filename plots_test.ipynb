{
 "cells": [
  {
   "cell_type": "markdown",
   "metadata": {},
   "source": [
    "## Workflow\n",
    "\n",
    "**Data generation** -> **Data load / Visualization(Plotting)**\n",
    "\n",
    "## Folder Structure\n",
    "\n",
    "```\n",
    "└── pytorch-benchmark\n",
    "    ├── trace_data\n",
    "    │   ├── .pickle\n",
    "    │   └── ncu_reports\n",
    "    │       └── .qdrep\n",
    "    ├── plots_model_exec.py\n",
    "    └── plots_test.ipynb\n",
    "```"
   ]
  },
  {
   "cell_type": "code",
   "execution_count": 1,
   "metadata": {},
   "outputs": [],
   "source": [
    "N_ITERATIONS = 20\n",
    "EXPERIMENT_NAME = 'cuda_eval_nograd'"
   ]
  },
  {
   "cell_type": "code",
   "execution_count": 2,
   "metadata": {},
   "outputs": [],
   "source": [
    "import pandas as pd\n",
    "import os\n",
    "import time"
   ]
  },
  {
   "cell_type": "markdown",
   "metadata": {},
   "source": [
    "# Data generation(without nsight)"
   ]
  },
  {
   "cell_type": "code",
   "execution_count": 3,
   "metadata": {},
   "outputs": [
    {
     "name": "stdout",
     "output_type": "stream",
     "text": [
      "/workspace/benchmark\r\n"
     ]
    }
   ],
   "source": [
    "!pwd"
   ]
  },
  {
   "cell_type": "code",
   "execution_count": 4,
   "metadata": {},
   "outputs": [],
   "source": [
    "import os\n",
    "\n",
    "MAIN_DIR = os.getcwd()"
   ]
  },
  {
   "cell_type": "code",
   "execution_count": 5,
   "metadata": {},
   "outputs": [
    {
     "name": "stdout",
     "output_type": "stream",
     "text": [
      "True\n"
     ]
    }
   ],
   "source": [
    "import torch\n",
    "\n",
    "print(torch.cuda.is_available())"
   ]
  },
  {
   "cell_type": "code",
   "execution_count": 6,
   "metadata": {},
   "outputs": [],
   "source": [
    "import itertools\n",
    "from torchbenchmark import list_models\n",
    "\n",
    "params_test_devices = ('cuda',)#('cpu', 'cuda')\n",
    "params_test_workloads = ('eval',)#('eval', 'train')\n",
    "params_test_models = ('resnet50', 'BERT', 'dlrm', 'nvidia_deeprecommender') # [m.name for m in list_models()]\n",
    "\"\"\"params_test_models = (\n",
    "    'BERT_pytorch',\n",
    "    'alexnet',\n",
    "    'densenet121',\n",
    "    'dlrm',\n",
    "    'drq',\n",
    "    'fastNLP',\n",
    "    'nvidia_deeprecommender',\n",
    "    'pytorch_stargan',\n",
    "    'pytorch_struct',\n",
    "    'resnet18',\n",
    "    'resnet50',\n",
    "    'resnext50_32x4d',\n",
    "    'shufflenet_v2_x1_0',\n",
    "    'soft_actor_critic',\n",
    "    'squeezenet1_1',\n",
    "    'timm_efficientnet',\n",
    "    'timm_nfnet',\n",
    "    'timm_regnet',\n",
    "    'timm_resnest',\n",
    "    'timm_vision_transformer',\n",
    "    'timm_vovnet',\n",
    "    'tts_angular',\n",
    "    'vgg16',\n",
    "    'yolov3'\n",
    ")\"\"\"\n",
    "\n",
    "\n",
    "# params_test[:][0] -> device, params_test[:][1] -> workload, params_test[:][2] -> model\n",
    "params_test = list(itertools.product(params_test_devices, params_test_workloads, params_test_models))\n"
   ]
  },
  {
   "cell_type": "code",
   "execution_count": 7,
   "metadata": {
    "scrolled": true
   },
   "outputs": [
    {
     "name": "stdout",
     "output_type": "stream",
     "text": [
      "resnet50\n"
     ]
    },
    {
     "name": "stderr",
     "output_type": "stream",
     "text": [
      "/opt/conda/lib/python3.8/site-packages/packaging/version.py:111: DeprecationWarning: Creating a LegacyVersion has been deprecated and will be removed in the next major release\n",
      "  warnings.warn(\n",
      "################################################################################\n",
      "### WARNING, path does not exist: KALDI_ROOT=/mnt/matylda5/iveselyk/Tools/kaldi-trunk\n",
      "###          (please add 'export KALDI_ROOT=<your_path>' in your $HOME/.profile)\n",
      "###          (or run as: KALDI_ROOT=<your_path> python <your_script>.py)\n",
      "################################################################################\n",
      "\n"
     ]
    },
    {
     "name": "stdout",
     "output_type": "stream",
     "text": [
      "BERT\n",
      "dlrm\n",
      "nvidia_deeprecommender\n"
     ]
    }
   ],
   "source": [
    "from torchbenchmark import list_models\n",
    "import torch.autograd.profiler as profiler\n",
    "import gc\n",
    "import multiprocessing\n",
    "import pickle\n",
    "from py3nvml import py3nvml\n",
    "\n",
    "def device_power_profiler(connection):\n",
    "    py3nvml.nvmlInit()\n",
    "    handle = py3nvml.nvmlDeviceGetHandleByIndex(0)\n",
    "    power_data = {\"elapsed_time\": [], \"power\": []}\n",
    "    connection.send(\"ready\")\n",
    "    connection.recv()\n",
    "    t0 = time.time()\n",
    "    while not connection.poll(0.001):\n",
    "        power_data[\"elapsed_time\"].append(time.time() - t0)\n",
    "        power_data[\"power\"].append(py3nvml.nvmlDeviceGetPowerUsage(handle))\n",
    "        \n",
    "    connection.send(power_data)\n",
    "\n",
    "def profile_one_step(func, cuda, niter, nwarmup=3):\n",
    "    for i in range(nwarmup):\n",
    "        func() # default niter == 1, for warmup 1 is enough(memory allocation, etc.)\n",
    "\n",
    "    parent_conn, child_conn = multiprocessing.Pipe()\n",
    "    proc = multiprocessing.Process(target=device_power_profiler, args=(child_conn,))\n",
    "    proc.start()\n",
    "    parent_conn.recv()\n",
    "    parent_conn.send(\"start\")\n",
    "    with profiler.profile(record_shapes=True, use_cuda = cuda) as prof:\n",
    "        func(niter)\n",
    "    parent_conn.send(\"stop\")\n",
    "    power_data = parent_conn.recv()\n",
    "    return prof, power_data\n",
    "    #print(prof.key_averages(group_by_input_shape=True).table(sort_by=\"cpu_time_total\", row_limit=30))\n",
    "\n",
    "results = []\n",
    "\n",
    "torch.set_grad_enabled(False)\n",
    "for params in params_test:\n",
    "    device, workload, model = params\n",
    "    print(model) # debug\n",
    "\n",
    "    found = False\n",
    "    for Model in list_models():\n",
    "        if model.lower() in Model.name.lower():\n",
    "            found = True\n",
    "            break\n",
    "\n",
    "    # build the model and get the task to profile\n",
    "    m = Model(device = device)\n",
    "    test = getattr(m, workload)\n",
    "\n",
    "    prof_data, power_data = profile_one_step(test, device == 'cuda', N_ITERATIONS)\n",
    "    gc.collect()\n",
    "    if device == 'cuda':\n",
    "        torch.cuda.empty_cache()\n",
    "    results.append((params, prof_data, power_data))\n"
   ]
  },
  {
   "cell_type": "code",
   "execution_count": 8,
   "metadata": {},
   "outputs": [
    {
     "name": "stderr",
     "output_type": "stream",
     "text": [
      "/opt/conda/lib/python3.8/site-packages/ipykernel/ipkernel.py:287: DeprecationWarning: `should_run_async` will not call `transform_cell` automatically in the future. Please pass the result to `transformed_cell` argument and any exception that happen during thetransform in `preprocessing_exc_tuple` in IPython 7.17 and above.\n",
      "  and should_run_async(code)\n"
     ]
    }
   ],
   "source": [
    "from torch.autograd import DeviceType\n",
    "\n",
    "\n",
    "data_profiledtime_dict = {}\n",
    "for result in results:\n",
    "    events = result[1].function_events\n",
    "    sum_self_cpu_time_total = sum([event.self_cpu_time_total for event in events])\n",
    "\n",
    "    sum_self_cuda_time_total = 0\n",
    "    for evt in events:\n",
    "        if evt.device_type == DeviceType.CPU:\n",
    "            # in legacy profiler, kernel info is stored in cpu events\n",
    "            if evt.is_legacy:\n",
    "                sum_self_cuda_time_total += evt.self_cuda_time_total\n",
    "        elif evt.device_type == DeviceType.CUDA:\n",
    "            # in kineto profiler, there're events with the correct device type (e.g. CUDA)\n",
    "            sum_self_cuda_time_total += evt.self_cuda_time_total\n",
    "\n",
    "    data_profiledtime_dict[result[0]] = (sum_self_cpu_time_total, sum_self_cuda_time_total)"
   ]
  },
  {
   "cell_type": "code",
   "execution_count": 9,
   "metadata": {
    "scrolled": true
   },
   "outputs": [
    {
     "name": "stdout",
     "output_type": "stream",
     "text": [
      "cuda, eval, resnet50                     386976.876           452242.030          \n",
      "cuda, eval, BERT                         505505.664           587695.951          \n",
      "cuda, eval, dlrm                         20407.059            19686.208           \n",
      "cuda, eval, nvidia_deeprecommender       267404.657           299273.861          \n"
     ]
    },
    {
     "name": "stderr",
     "output_type": "stream",
     "text": [
      "/opt/conda/lib/python3.8/site-packages/ipykernel/ipkernel.py:287: DeprecationWarning: `should_run_async` will not call `transform_cell` automatically in the future. Please pass the result to `transformed_cell` argument and any exception that happen during thetransform in `preprocessing_exc_tuple` in IPython 7.17 and above.\n",
      "  and should_run_async(code)\n"
     ]
    }
   ],
   "source": [
    "for r in results:\n",
    "    print(f'{\", \".join([str(x) for x in r[0]]):<40} {data_profiledtime_dict[r[0]][0]:<20.3f} {data_profiledtime_dict[r[0]][1]:<20.3f}')"
   ]
  },
  {
   "cell_type": "code",
   "execution_count": 10,
   "metadata": {},
   "outputs": [
    {
     "name": "stderr",
     "output_type": "stream",
     "text": [
      "/opt/conda/lib/python3.8/site-packages/ipykernel/ipkernel.py:287: DeprecationWarning: `should_run_async` will not call `transform_cell` automatically in the future. Please pass the result to `transformed_cell` argument and any exception that happen during thetransform in `preprocessing_exc_tuple` in IPython 7.17 and above.\n",
      "  and should_run_async(code)\n"
     ]
    }
   ],
   "source": [
    "power_data_list = []\n",
    "for r in results:\n",
    "    power_data_list.append((r[0][2], r[2]))\n",
    "\n",
    "with open(os.path.join(MAIN_DIR, \"trace_data\", \"power_data_list.pickle\"), \"wb\") as f:\n",
    "    pickle.dump(power_data_list, f)"
   ]
  },
  {
   "cell_type": "code",
   "execution_count": 11,
   "metadata": {},
   "outputs": [
    {
     "name": "stderr",
     "output_type": "stream",
     "text": [
      "/opt/conda/lib/python3.8/site-packages/ipykernel/ipkernel.py:287: DeprecationWarning: `should_run_async` will not call `transform_cell` automatically in the future. Please pass the result to `transformed_cell` argument and any exception that happen during thetransform in `preprocessing_exc_tuple` in IPython 7.17 and above.\n",
      "  and should_run_async(code)\n"
     ]
    }
   ],
   "source": [
    "\n",
    "\n",
    "\n",
    "df = pd.DataFrame()\n",
    "df['model'] = [r[0][2] for r in results]\n",
    "df['time_cpu'] = [data_profiledtime_dict[r[0]][0] for r in results]\n",
    "df['time_cuda'] = [data_profiledtime_dict[r[0]][1] for r in results]\n",
    "\n",
    "\n",
    "\n",
    "df.to_pickle(os.path.join(MAIN_DIR, \"trace_data\", f'{EXPERIMENT_NAME}.pickle'))\n"
   ]
  },
  {
   "cell_type": "markdown",
   "metadata": {},
   "source": [
    "# Data generation(with nsight)"
   ]
  },
  {
   "cell_type": "code",
   "execution_count": 15,
   "metadata": {
    "scrolled": true
   },
   "outputs": [
    {
     "name": "stderr",
     "output_type": "stream",
     "text": [
      "/opt/conda/lib/python3.8/site-packages/ipykernel/ipkernel.py:287: DeprecationWarning: `should_run_async` will not call `transform_cell` automatically in the future. Please pass the result to `transformed_cell` argument and any exception that happen during thetransform in `preprocessing_exc_tuple` in IPython 7.17 and above.\n",
      "  and should_run_async(code)\n"
     ]
    },
    {
     "name": "stdout",
     "output_type": "stream",
     "text": [
      "resnet50\n",
      "BERT\n",
      "dlrm\n",
      "nvidia_deeprecommender\n"
     ]
    }
   ],
   "source": [
    "nsight_runtimes = []\n",
    "for params in params_test:\n",
    "    device, workload, model = params\n",
    "    print(model) # debug\n",
    "\n",
    "    found = False\n",
    "    for Model in list_models():\n",
    "        if model.lower() in Model.name.lower():\n",
    "            found = True\n",
    "            break\n",
    "    \n",
    "    start_time = time.time()\n",
    "    os.system(f\"nsys profile --trace=cuda,nvtx,cudnn,cublas --cudabacktrace all --cuda-memory-usage true -o {os.path.join(MAIN_DIR, 'trace_data', 'ncu_reports', '%s.qdrep'%(model))} python3 run.py {model} -d {device} -m eager -t {workload} --profile --iter {N_ITERATIONS}\")\n",
    "    end_time = time.time()\n",
    "    nsight_runtimes.append((model, end_time - start_time))\n",
    "\n",
    "with open(os.path.join(MAIN_DIR, \"trace_data\", \"nsight_runtimes_list.pickle\"), \"wb\") as f:\n",
    "    pickle.dump(nsight_runtimes, f)"
   ]
  },
  {
   "cell_type": "markdown",
   "metadata": {},
   "source": [
    "# Data load"
   ]
  },
  {
   "cell_type": "code",
   "execution_count": 18,
   "metadata": {
    "scrolled": true
   },
   "outputs": [
    {
     "name": "stderr",
     "output_type": "stream",
     "text": [
      "/opt/conda/lib/python3.8/site-packages/ipykernel/ipkernel.py:287: DeprecationWarning: `should_run_async` will not call `transform_cell` automatically in the future. Please pass the result to `transformed_cell` argument and any exception that happen during thetransform in `preprocessing_exc_tuple` in IPython 7.17 and above.\n",
      "  and should_run_async(code)\n"
     ]
    }
   ],
   "source": [
    "with open(os.path.join(MAIN_DIR, \"trace_data\", \"nsight_runtimes_list.pickle\"), \"rb\") as f:\n",
    "    nsight_runtimes = pickle.load(f)  # list of tuple (experiment_name, duration)\n",
    "with open(os.path.join(MAIN_DIR, \"trace_data\", \"power_data_list.pickle\"), \"rb\") as f:\n",
    "    power_data = pickle.load(f)  # list of tuple (experiment_name, {\"elapsed_time\":[], \"power\":[]})"
   ]
  },
  {
   "cell_type": "markdown",
   "metadata": {},
   "source": [
    "# Visualization"
   ]
  },
  {
   "cell_type": "code",
   "execution_count": 19,
   "metadata": {},
   "outputs": [
    {
     "name": "stderr",
     "output_type": "stream",
     "text": [
      "/opt/conda/lib/python3.8/site-packages/ipykernel/ipkernel.py:287: DeprecationWarning: `should_run_async` will not call `transform_cell` automatically in the future. Please pass the result to `transformed_cell` argument and any exception that happen during thetransform in `preprocessing_exc_tuple` in IPython 7.17 and above.\n",
      "  and should_run_async(code)\n"
     ]
    }
   ],
   "source": [
    "import matplotlib.pyplot as plt"
   ]
  },
  {
   "cell_type": "markdown",
   "metadata": {},
   "source": [
    "## Plot power consumption for all experiments"
   ]
  },
  {
   "cell_type": "code",
   "execution_count": 20,
   "metadata": {},
   "outputs": [
    {
     "name": "stderr",
     "output_type": "stream",
     "text": [
      "/opt/conda/lib/python3.8/site-packages/ipykernel/ipkernel.py:287: DeprecationWarning: `should_run_async` will not call `transform_cell` automatically in the future. Please pass the result to `transformed_cell` argument and any exception that happen during thetransform in `preprocessing_exc_tuple` in IPython 7.17 and above.\n",
      "  and should_run_async(code)\n"
     ]
    },
    {
     "data": {
      "image/png": "[encoded data removed]",
      "text/plain": [
       "<Figure size 432x288 with 1 Axes>"
      ]
     },
     "metadata": {
      "needs_background": "light"
     },
     "output_type": "display_data"
    }
   ],
   "source": [
    "%matplotlib inline\n",
    "sampling_interval = 0.001\n",
    "def integrate(df):\n",
    "    recent_time = 0\n",
    "    integral = 0\n",
    "    for index, row in df.iterrows():\n",
    "        dt = row[\"elapsed_time\"] - recent_time\n",
    "        integral += dt * row[\"power\"]\n",
    "        recent_time = row[\"elapsed_time\"]\n",
    "\n",
    "    return integral / 1000 * 3600\n",
    "\n",
    "energy = []\n",
    "labels = []\n",
    "\n",
    "fig = plt.figure()\n",
    "for index, f in enumerate(power_data):\n",
    "    plt.tight_layout()\n",
    "    data = pd.DataFrame(f[1])\n",
    "    energy.append(integrate(data))\n",
    "    labels.append(f[0])\n",
    "    #plt.text(x = labels[-1], y= energy[-1] * 1.2, s=f\"{energy[-1]}\")\n",
    "\n",
    "plt.bar(labels, energy)\n",
    "plt.xlabel(\"Model name\")\n",
    "plt.xticks(rotation=45)\n",
    "plt.ylabel(\"Joules\")\n",
    "plt.title(\"Total Energy\")\n",
    "ax = plt.gca()\n",
    "ax.bar_label(ax.containers[0])\n",
    "fig.tight_layout()\n",
    "plt.show()\n",
    "fig.savefig(\"power_plots.png\", bbox_inches=\"tight\")"
   ]
  },
  {
   "cell_type": "markdown",
   "metadata": {},
   "source": [
    "## Plot nsight, no nsight runtimes"
   ]
  },
  {
   "cell_type": "code",
   "execution_count": 21,
   "metadata": {
    "scrolled": true
   },
   "outputs": [
    {
     "name": "stderr",
     "output_type": "stream",
     "text": [
      "/opt/conda/lib/python3.8/site-packages/ipykernel/ipkernel.py:287: DeprecationWarning: `should_run_async` will not call `transform_cell` automatically in the future. Please pass the result to `transformed_cell` argument and any exception that happen during thetransform in `preprocessing_exc_tuple` in IPython 7.17 and above.\n",
      "  and should_run_async(code)\n"
     ]
    },
    {
     "data": {
      "image/png": "[encoded data removed]",
      "text/plain": [
       "<Figure size 432x288 with 1 Axes>"
      ]
     },
     "metadata": {
      "needs_background": "light"
     },
     "output_type": "display_data"
    }
   ],
   "source": [
    "import pandas as pd\n",
    "\n",
    "fig = plt.figure()\n",
    "\n",
    "ax = fig.add_subplot(111)\n",
    "\n",
    "time_div_ratio = 1000*1000\n",
    "time_df = pd.read_pickle(os.path.join(MAIN_DIR, \"trace_data\", f'{EXPERIMENT_NAME}.pickle'))\n",
    "time_df.insert(0,'nsight_time',0.0)\n",
    "time_df.set_index(\"model\", inplace=True)\n",
    "for name, duration in nsight_runtimes:\n",
    "    time_df.loc[name, \"nsight_time\"] = duration\n",
    "\n",
    "width = 0.4\n",
    "    \n",
    "time_df.nsight_time.plot(kind=\"bar\", color=\"green\", ax=ax, width=width, position=1, legend=True)\n",
    "(time_df.time_cpu/time_div_ratio + time_df.time_cuda/time_div_ratio).plot(kind=\"bar\", color=\"orange\", ax=ax, width=width, position=0, legend=True)\n",
    "plt.tight_layout()\n",
    "plt.title(f\"Total runtime with/without NSight Systems (n={N_ITERATIONS})\")\n",
    "plt.ylabel(\"seconds\")\n",
    "plt.savefig(\"duration.png\", bbox_inches=\"tight\")"
   ]
  },
  {
   "cell_type": "markdown",
   "metadata": {},
   "source": [
    "## code below is just for reference"
   ]
  },
  {
   "cell_type": "code",
   "execution_count": null,
   "metadata": {},
   "outputs": [],
   "source": [
    "\n",
    "\n",
    "plt_label = [m if len(m)<=8 else m[:8]+'..' for m in params_test_models]\n",
    "plt_N = len(params_test_models)\n",
    "plt_index = range(plt_N)\n",
    "plt_alpha = 0.5\n",
    "\n",
    "# Temp.\n",
    "time_div_ratio = 1000*1000\n",
    "data_cputime_list = [data_profiledtime_dict[('cuda','eval',m)][0]/time_div_ratio for m in params_test_models]\n",
    "data_cudatime_list = [data_profiledtime_dict[('cuda','eval',m)][1]/time_div_ratio for m in params_test_models]\n",
    "\n",
    "p1 = plt.bar(plt_index, data_cputime_list, color='b', alpha=plt_alpha)\n",
    "p2 = plt.bar(plt_index, data_cudatime_list, color='g', alpha=plt_alpha,\n",
    "             bottom=data_cputime_list) # stacked bar chart\n",
    "plt.title('CUDA, eval', fontsize=20)\n",
    "plt.ylabel('time(s)', fontsize=18)\n",
    "plt.xlabel('models', fontsize=18)\n",
    "plt.xticks(plt_index, plt_label, fontsize=15)\n",
    "plt.legend((p1[0], p2[0]), ('CPU', 'CUDA'), fontsize=15)\n",
    "plt.show()\n"
   ]
  }
 ],
 "metadata": {
  "kernelspec": {
   "display_name": "Python 3",
   "language": "python",
   "name": "python3"
  },
  "language_info": {
   "codemirror_mode": {
    "name": "ipython",
    "version": 3
   },
   "file_extension": ".py",
   "mimetype": "text/x-python",
   "name": "python",
   "nbconvert_exporter": "python",
   "pygments_lexer": "ipython3",
   "version": "3.8.8"
  }
 },
 "nbformat": 4,
 "nbformat_minor": 2
}
